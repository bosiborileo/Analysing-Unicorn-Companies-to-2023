{
 "cells": [
  {
   "cell_type": "markdown",
   "id": "d155ccf9",
   "metadata": {},
   "source": [
    "# EDA"
   ]
  },
  {
   "cell_type": "code",
   "execution_count": 1,
   "id": "d0353fde",
   "metadata": {},
   "outputs": [],
   "source": [
    "#importing modules\n",
    "import pandas as pd\n",
    "import numpy as np\n",
    "import matplotlib.pyplot as plt\n",
    "import seaborn as sns"
   ]
  },
  {
   "cell_type": "code",
   "execution_count": 2,
   "id": "5da888e8",
   "metadata": {},
   "outputs": [
    {
     "data": {
      "text/html": [
       "<div>\n",
       "<style scoped>\n",
       "    .dataframe tbody tr th:only-of-type {\n",
       "        vertical-align: middle;\n",
       "    }\n",
       "\n",
       "    .dataframe tbody tr th {\n",
       "        vertical-align: top;\n",
       "    }\n",
       "\n",
       "    .dataframe thead th {\n",
       "        text-align: right;\n",
       "    }\n",
       "</style>\n",
       "<table border=\"1\" class=\"dataframe\">\n",
       "  <thead>\n",
       "    <tr style=\"text-align: right;\">\n",
       "      <th></th>\n",
       "      <th>Unnamed: 0</th>\n",
       "      <th>Company</th>\n",
       "      <th>Valuation ($B)</th>\n",
       "      <th>Date Joined</th>\n",
       "      <th>Country</th>\n",
       "      <th>City</th>\n",
       "      <th>Industry</th>\n",
       "      <th>Select Investors</th>\n",
       "    </tr>\n",
       "  </thead>\n",
       "  <tbody>\n",
       "    <tr>\n",
       "      <th>0</th>\n",
       "      <td>0</td>\n",
       "      <td>ByteDance</td>\n",
       "      <td>$225</td>\n",
       "      <td>4/7/2017</td>\n",
       "      <td>China</td>\n",
       "      <td>Beijing</td>\n",
       "      <td>Media &amp; Entertainment</td>\n",
       "      <td>Sequoia Capital China, SIG Asia Investments, S...</td>\n",
       "    </tr>\n",
       "    <tr>\n",
       "      <th>1</th>\n",
       "      <td>1</td>\n",
       "      <td>SpaceX</td>\n",
       "      <td>$137</td>\n",
       "      <td>12/1/2012</td>\n",
       "      <td>United States</td>\n",
       "      <td>Hawthorne</td>\n",
       "      <td>Industrials</td>\n",
       "      <td>Founders Fund, Draper Fisher Jurvetson, Rothen...</td>\n",
       "    </tr>\n",
       "    <tr>\n",
       "      <th>2</th>\n",
       "      <td>2</td>\n",
       "      <td>SHEIN</td>\n",
       "      <td>$66</td>\n",
       "      <td>7/3/2018</td>\n",
       "      <td>China</td>\n",
       "      <td>Shenzhen</td>\n",
       "      <td>Consumer &amp; Retail</td>\n",
       "      <td>Tiger Global Management, Sequoia Capital China...</td>\n",
       "    </tr>\n",
       "    <tr>\n",
       "      <th>3</th>\n",
       "      <td>3</td>\n",
       "      <td>Stripe</td>\n",
       "      <td>$50</td>\n",
       "      <td>1/23/2014</td>\n",
       "      <td>United States</td>\n",
       "      <td>San Francisco</td>\n",
       "      <td>Financial Services</td>\n",
       "      <td>Khosla Ventures, LowercaseCapital, capitalG</td>\n",
       "    </tr>\n",
       "    <tr>\n",
       "      <th>4</th>\n",
       "      <td>4</td>\n",
       "      <td>Canva</td>\n",
       "      <td>$40</td>\n",
       "      <td>1/8/2018</td>\n",
       "      <td>Australia</td>\n",
       "      <td>Surry Hills</td>\n",
       "      <td>Enterprise Tech</td>\n",
       "      <td>Sequoia Capital China, Blackbird Ventures, Mat...</td>\n",
       "    </tr>\n",
       "  </tbody>\n",
       "</table>\n",
       "</div>"
      ],
      "text/plain": [
       "   Unnamed: 0    Company Valuation ($B) Date Joined        Country  \\\n",
       "0           0  ByteDance           $225    4/7/2017          China   \n",
       "1           1     SpaceX           $137   12/1/2012  United States   \n",
       "2           2      SHEIN            $66    7/3/2018          China   \n",
       "3           3     Stripe            $50   1/23/2014  United States   \n",
       "4           4      Canva            $40    1/8/2018      Australia   \n",
       "\n",
       "            City               Industry  \\\n",
       "0        Beijing  Media & Entertainment   \n",
       "1      Hawthorne            Industrials   \n",
       "2       Shenzhen      Consumer & Retail   \n",
       "3  San Francisco     Financial Services   \n",
       "4    Surry Hills        Enterprise Tech   \n",
       "\n",
       "                                    Select Investors  \n",
       "0  Sequoia Capital China, SIG Asia Investments, S...  \n",
       "1  Founders Fund, Draper Fisher Jurvetson, Rothen...  \n",
       "2  Tiger Global Management, Sequoia Capital China...  \n",
       "3        Khosla Ventures, LowercaseCapital, capitalG  \n",
       "4  Sequoia Capital China, Blackbird Ventures, Mat...  "
      ]
     },
     "execution_count": 2,
     "metadata": {},
     "output_type": "execute_result"
    }
   ],
   "source": [
    "#importing the dataset \n",
    "unicorn_data = pd.read_csv(\"C:\\\\Users\\\\user\\\\Desktop\\\\unicon startup companies\\\\unicorn_startup_companies.csv\")\n",
    "unicorn_data.head()"
   ]
  },
  {
   "cell_type": "code",
   "execution_count": 4,
   "id": "56d09dcb",
   "metadata": {},
   "outputs": [
    {
     "data": {
      "text/plain": [
       "(1221, 8)"
      ]
     },
     "execution_count": 4,
     "metadata": {},
     "output_type": "execute_result"
    }
   ],
   "source": [
    "#rows and columns of the dataset\n",
    "unicorn_data.shape"
   ]
  },
  {
   "cell_type": "code",
   "execution_count": 6,
   "id": "0024fa8c",
   "metadata": {},
   "outputs": [
    {
     "name": "stdout",
     "output_type": "stream",
     "text": [
      "<class 'pandas.core.frame.DataFrame'>\n",
      "RangeIndex: 1221 entries, 0 to 1220\n",
      "Data columns (total 8 columns):\n",
      " #   Column            Non-Null Count  Dtype \n",
      "---  ------            --------------  ----- \n",
      " 0   Unnamed: 0        1221 non-null   int64 \n",
      " 1   Company           1221 non-null   object\n",
      " 2   Valuation ($B)    1221 non-null   object\n",
      " 3   Date Joined       1221 non-null   object\n",
      " 4   Country           1221 non-null   object\n",
      " 5   City              1203 non-null   object\n",
      " 6   Industry          1221 non-null   object\n",
      " 7   Select Investors  1219 non-null   object\n",
      "dtypes: int64(1), object(7)\n",
      "memory usage: 76.4+ KB\n"
     ]
    }
   ],
   "source": [
    "unicorn_data.info()"
   ]
  },
  {
   "cell_type": "code",
   "execution_count": 7,
   "id": "d9880df8",
   "metadata": {},
   "outputs": [
    {
     "data": {
      "text/plain": [
       "1216"
      ]
     },
     "execution_count": 7,
     "metadata": {},
     "output_type": "execute_result"
    }
   ],
   "source": [
    "#displaying unique rows\n",
    "unicorn_data['Company'].nunique()"
   ]
  },
  {
   "cell_type": "code",
   "execution_count": 8,
   "id": "dfa2bcdb",
   "metadata": {},
   "outputs": [
    {
     "data": {
      "text/plain": [
       "735"
      ]
     },
     "execution_count": 8,
     "metadata": {},
     "output_type": "execute_result"
    }
   ],
   "source": [
    "unicorn_data['Date Joined'].nunique()"
   ]
  },
  {
   "cell_type": "code",
   "execution_count": 9,
   "id": "310e18c5",
   "metadata": {},
   "outputs": [
    {
     "data": {
      "text/plain": [
       "Unnamed: 0          1221\n",
       "Company             1216\n",
       "Valuation ($B)       226\n",
       "Date Joined          735\n",
       "Country               51\n",
       "City                 289\n",
       "Industry               7\n",
       "Select Investors    1200\n",
       "dtype: int64"
      ]
     },
     "execution_count": 9,
     "metadata": {},
     "output_type": "execute_result"
    }
   ],
   "source": [
    "unicorn_data.nunique()"
   ]
  },
  {
   "cell_type": "code",
   "execution_count": 10,
   "id": "d7447da4",
   "metadata": {},
   "outputs": [
    {
     "data": {
      "text/html": [
       "<div>\n",
       "<style scoped>\n",
       "    .dataframe tbody tr th:only-of-type {\n",
       "        vertical-align: middle;\n",
       "    }\n",
       "\n",
       "    .dataframe tbody tr th {\n",
       "        vertical-align: top;\n",
       "    }\n",
       "\n",
       "    .dataframe thead th {\n",
       "        text-align: right;\n",
       "    }\n",
       "</style>\n",
       "<table border=\"1\" class=\"dataframe\">\n",
       "  <thead>\n",
       "    <tr style=\"text-align: right;\">\n",
       "      <th></th>\n",
       "      <th>Company</th>\n",
       "      <th>Valuation ($B)</th>\n",
       "      <th>Date Joined</th>\n",
       "      <th>Country</th>\n",
       "      <th>City</th>\n",
       "      <th>Industry</th>\n",
       "    </tr>\n",
       "  </thead>\n",
       "  <tbody>\n",
       "    <tr>\n",
       "      <th>0</th>\n",
       "      <td>ByteDance</td>\n",
       "      <td>$225</td>\n",
       "      <td>4/7/2017</td>\n",
       "      <td>China</td>\n",
       "      <td>Beijing</td>\n",
       "      <td>Media &amp; Entertainment</td>\n",
       "    </tr>\n",
       "    <tr>\n",
       "      <th>1</th>\n",
       "      <td>SpaceX</td>\n",
       "      <td>$137</td>\n",
       "      <td>12/1/2012</td>\n",
       "      <td>United States</td>\n",
       "      <td>Hawthorne</td>\n",
       "      <td>Industrials</td>\n",
       "    </tr>\n",
       "    <tr>\n",
       "      <th>2</th>\n",
       "      <td>SHEIN</td>\n",
       "      <td>$66</td>\n",
       "      <td>7/3/2018</td>\n",
       "      <td>China</td>\n",
       "      <td>Shenzhen</td>\n",
       "      <td>Consumer &amp; Retail</td>\n",
       "    </tr>\n",
       "    <tr>\n",
       "      <th>3</th>\n",
       "      <td>Stripe</td>\n",
       "      <td>$50</td>\n",
       "      <td>1/23/2014</td>\n",
       "      <td>United States</td>\n",
       "      <td>San Francisco</td>\n",
       "      <td>Financial Services</td>\n",
       "    </tr>\n",
       "    <tr>\n",
       "      <th>4</th>\n",
       "      <td>Canva</td>\n",
       "      <td>$40</td>\n",
       "      <td>1/8/2018</td>\n",
       "      <td>Australia</td>\n",
       "      <td>Surry Hills</td>\n",
       "      <td>Enterprise Tech</td>\n",
       "    </tr>\n",
       "  </tbody>\n",
       "</table>\n",
       "</div>"
      ],
      "text/plain": [
       "     Company Valuation ($B) Date Joined        Country           City  \\\n",
       "0  ByteDance           $225    4/7/2017          China        Beijing   \n",
       "1     SpaceX           $137   12/1/2012  United States      Hawthorne   \n",
       "2      SHEIN            $66    7/3/2018          China       Shenzhen   \n",
       "3     Stripe            $50   1/23/2014  United States  San Francisco   \n",
       "4      Canva            $40    1/8/2018      Australia    Surry Hills   \n",
       "\n",
       "                Industry  \n",
       "0  Media & Entertainment  \n",
       "1            Industrials  \n",
       "2      Consumer & Retail  \n",
       "3     Financial Services  \n",
       "4        Enterprise Tech  "
      ]
     },
     "execution_count": 10,
     "metadata": {},
     "output_type": "execute_result"
    }
   ],
   "source": [
    "#removing unwanted columns\n",
    "unicorn_data = unicorn_data.drop(['Unnamed: 0', 'Select Investors'], axis=1)\n",
    "unicorn_data.head()"
   ]
  },
  {
   "cell_type": "code",
   "execution_count": 11,
   "id": "61424a31",
   "metadata": {},
   "outputs": [
    {
     "name": "stdout",
     "output_type": "stream",
     "text": [
      "<class 'pandas.core.frame.DataFrame'>\n",
      "RangeIndex: 1221 entries, 0 to 1220\n",
      "Data columns (total 6 columns):\n",
      " #   Column          Non-Null Count  Dtype         \n",
      "---  ------          --------------  -----         \n",
      " 0   Company         1221 non-null   object        \n",
      " 1   Valuation ($B)  1221 non-null   object        \n",
      " 2   Date Joined     1221 non-null   datetime64[ns]\n",
      " 3   Country         1221 non-null   object        \n",
      " 4   City            1203 non-null   object        \n",
      " 5   Industry        1221 non-null   object        \n",
      "dtypes: datetime64[ns](1), object(5)\n",
      "memory usage: 57.4+ KB\n"
     ]
    }
   ],
   "source": [
    "#converting Datetime object\n",
    "unicorn_data['Date Joined'] = pd.to_datetime(unicorn_data['Date Joined'])\n",
    "unicorn_data.info()"
   ]
  },
  {
   "cell_type": "code",
   "execution_count": 13,
   "id": "a27b7f9a",
   "metadata": {},
   "outputs": [
    {
     "data": {
      "text/html": [
       "<div>\n",
       "<style scoped>\n",
       "    .dataframe tbody tr th:only-of-type {\n",
       "        vertical-align: middle;\n",
       "    }\n",
       "\n",
       "    .dataframe tbody tr th {\n",
       "        vertical-align: top;\n",
       "    }\n",
       "\n",
       "    .dataframe thead th {\n",
       "        text-align: right;\n",
       "    }\n",
       "</style>\n",
       "<table border=\"1\" class=\"dataframe\">\n",
       "  <thead>\n",
       "    <tr style=\"text-align: right;\">\n",
       "      <th></th>\n",
       "      <th>Company</th>\n",
       "      <th>Valuation ($B)</th>\n",
       "      <th>Date Joined</th>\n",
       "      <th>Country</th>\n",
       "      <th>City</th>\n",
       "      <th>Industry</th>\n",
       "    </tr>\n",
       "  </thead>\n",
       "  <tbody>\n",
       "    <tr>\n",
       "      <th>0</th>\n",
       "      <td>ByteDance</td>\n",
       "      <td>$225</td>\n",
       "      <td>2017-04-07</td>\n",
       "      <td>China</td>\n",
       "      <td>Beijing</td>\n",
       "      <td>Media &amp; Entertainment</td>\n",
       "    </tr>\n",
       "    <tr>\n",
       "      <th>1</th>\n",
       "      <td>SpaceX</td>\n",
       "      <td>$137</td>\n",
       "      <td>2012-12-01</td>\n",
       "      <td>United States</td>\n",
       "      <td>Hawthorne</td>\n",
       "      <td>Industrials</td>\n",
       "    </tr>\n",
       "    <tr>\n",
       "      <th>2</th>\n",
       "      <td>SHEIN</td>\n",
       "      <td>$66</td>\n",
       "      <td>2018-07-03</td>\n",
       "      <td>China</td>\n",
       "      <td>Shenzhen</td>\n",
       "      <td>Consumer &amp; Retail</td>\n",
       "    </tr>\n",
       "    <tr>\n",
       "      <th>3</th>\n",
       "      <td>Stripe</td>\n",
       "      <td>$50</td>\n",
       "      <td>2014-01-23</td>\n",
       "      <td>United States</td>\n",
       "      <td>San Francisco</td>\n",
       "      <td>Financial Services</td>\n",
       "    </tr>\n",
       "    <tr>\n",
       "      <th>4</th>\n",
       "      <td>Canva</td>\n",
       "      <td>$40</td>\n",
       "      <td>2018-01-08</td>\n",
       "      <td>Australia</td>\n",
       "      <td>Surry Hills</td>\n",
       "      <td>Enterprise Tech</td>\n",
       "    </tr>\n",
       "  </tbody>\n",
       "</table>\n",
       "</div>"
      ],
      "text/plain": [
       "     Company Valuation ($B) Date Joined        Country           City  \\\n",
       "0  ByteDance           $225  2017-04-07          China        Beijing   \n",
       "1     SpaceX           $137  2012-12-01  United States      Hawthorne   \n",
       "2      SHEIN            $66  2018-07-03          China       Shenzhen   \n",
       "3     Stripe            $50  2014-01-23  United States  San Francisco   \n",
       "4      Canva            $40  2018-01-08      Australia    Surry Hills   \n",
       "\n",
       "                Industry  \n",
       "0  Media & Entertainment  \n",
       "1            Industrials  \n",
       "2      Consumer & Retail  \n",
       "3     Financial Services  \n",
       "4        Enterprise Tech  "
      ]
     },
     "execution_count": 13,
     "metadata": {},
     "output_type": "execute_result"
    }
   ],
   "source": [
    "unicorn_data.head()"
   ]
  },
  {
   "cell_type": "code",
   "execution_count": 15,
   "id": "6c643a2b",
   "metadata": {},
   "outputs": [
    {
     "data": {
      "text/plain": [
       "Company            0\n",
       "Valuation ($B)     0\n",
       "Date Joined        0\n",
       "Country            0\n",
       "City              18\n",
       "Industry           0\n",
       "dtype: int64"
      ]
     },
     "execution_count": 15,
     "metadata": {},
     "output_type": "execute_result"
    }
   ],
   "source": [
    "unicorn_data.isnull().sum()"
   ]
  },
  {
   "cell_type": "code",
   "execution_count": 17,
   "id": "605d3df8",
   "metadata": {},
   "outputs": [
    {
     "data": {
      "text/plain": [
       "Company           1203\n",
       "Valuation ($B)    1203\n",
       "Date Joined       1203\n",
       "Country           1203\n",
       "City              1203\n",
       "Industry          1203\n",
       "dtype: int64"
      ]
     },
     "execution_count": 17,
     "metadata": {},
     "output_type": "execute_result"
    }
   ],
   "source": [
    "  # Dropping the missing values.\n",
    "unicorn_data = unicorn_data.dropna()  \n",
    "unicorn_data.count()"
   ]
  },
  {
   "cell_type": "code",
   "execution_count": 22,
   "id": "737afe0a",
   "metadata": {},
   "outputs": [
    {
     "name": "stdout",
     "output_type": "stream",
     "text": [
      "number of duplicate rows:  (0, 6)\n"
     ]
    }
   ],
   "source": [
    "#checking for duplicating rows\n",
    "duplicate_rows_unicorn_data = unicorn_data[unicorn_data.duplicated()]\n",
    "print(\"number of duplicate rows: \", duplicate_rows_unicorn_data.shape)"
   ]
  },
  {
   "cell_type": "code",
   "execution_count": 24,
   "id": "bbecc24d",
   "metadata": {},
   "outputs": [
    {
     "data": {
      "text/plain": [
       "Country\n",
       "United States           656\n",
       "China                   173\n",
       "India                    70\n",
       "United Kingdom           52\n",
       "Germany                  30\n",
       "France                   25\n",
       "Israel                   24\n",
       "Canada                   21\n",
       "Brazil                   16\n",
       "South Korea              14\n",
       "Australia                 8\n",
       "Indonesia                 8\n",
       "Mexico                    8\n",
       "Sweden                    7\n",
       "Japan                     7\n",
       "Netherlands               7\n",
       "Ireland                   6\n",
       "Switzerland               6\n",
       "Spain                     5\n",
       "Hong Kong                 4\n",
       "Finland                   4\n",
       "Norway                    4\n",
       "Thailand                  3\n",
       "Turkey                    3\n",
       "Colombia                  3\n",
       "United Arab Emirates      3\n",
       "Belgium                   3\n",
       "South Africa              2\n",
       "Italy                     2\n",
       "Vietnam                   2\n",
       "Estonia                   2\n",
       "Austria                   2\n",
       "Lithuania                 2\n",
       "Chile                     2\n",
       "Croatia                   2\n",
       "Denmark                   2\n",
       "Greece                    2\n",
       "Egypt                     1\n",
       "Bermuda                   1\n",
       "Czech Republic            1\n",
       "Ecuador                   1\n",
       "Luxembourg                1\n",
       "Malaysia                  1\n",
       "Seychelles                1\n",
       "Senegal                   1\n",
       "Philippines               1\n",
       "Liechtenstein             1\n",
       "Nigeria                   1\n",
       "London                    1\n",
       "Argentina                 1\n",
       "Name: Company, dtype: int64"
      ]
     },
     "execution_count": 24,
     "metadata": {},
     "output_type": "execute_result"
    }
   ],
   "source": [
    "countryGrouped = unicorn_data.groupby(['Country'])\n",
    "countryGrouped['Company'].count().sort_values(ascending=False)"
   ]
  },
  {
   "cell_type": "code",
   "execution_count": 26,
   "id": "9c081785",
   "metadata": {},
   "outputs": [
    {
     "data": {
      "image/png": "[encoded data removed]",
      "text/plain": [
       "<Figure size 1000x500 with 1 Axes>"
      ]
     },
     "metadata": {},
     "output_type": "display_data"
    }
   ],
   "source": [
    "#visualizing the number of startups by country\n",
    "unicorn_data['Country'].value_counts().nlargest(10).plot(kind='bar', figsize=(10,5))\n",
    "plt.title(\"Number of Start-up by Country\")\n",
    "plt.ylabel('Number of Start-up')\n",
    "plt.xlabel('Country');\n"
   ]
  },
  {
   "cell_type": "code",
   "execution_count": 27,
   "id": "23204c62",
   "metadata": {},
   "outputs": [
    {
     "data": {
      "image/png": "[encoded data removed]",
      "text/plain": [
       "<Figure size 1000x500 with 1 Axes>"
      ]
     },
     "metadata": {},
     "output_type": "display_data"
    }
   ],
   "source": [
    "#visualizing number of startups by industry\n",
    "unicorn_data['Industry'].value_counts().nlargest(10).plot(kind='bar', figsize=(10,5))\n",
    "plt.title(\"Number of Start-up by Industry\")\n",
    "plt.ylabel('Number of Start-up')\n",
    "plt.xlabel('Industry');"
   ]
  },
  {
   "cell_type": "code",
   "execution_count": null,
   "id": "83264aee",
   "metadata": {},
   "outputs": [],
   "source": []
  }
 ],
 "metadata": {
  "kernelspec": {
   "display_name": "Python 3 (ipykernel)",
   "language": "python",
   "name": "python3"
  },
  "language_info": {
   "codemirror_mode": {
    "name": "ipython",
    "version": 3
   },
   "file_extension": ".py",
   "mimetype": "text/x-python",
   "name": "python",
   "nbconvert_exporter": "python",
   "pygments_lexer": "ipython3",
   "version": "3.9.13"
  }
 },
 "nbformat": 4,
 "nbformat_minor": 5
}
